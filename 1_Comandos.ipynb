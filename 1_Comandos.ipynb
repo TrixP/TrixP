{
  "nbformat": 4,
  "nbformat_minor": 0,
  "metadata": {
    "colab": {
      "name": "1_Comandos.ipynb",
      "provenance": [],
      "collapsed_sections": [],
      "include_colab_link": true
    },
    "kernelspec": {
      "name": "python3",
      "display_name": "Python 3"
    },
    "language_info": {
      "name": "python"
    }
  },
  "cells": [
    {
      "cell_type": "markdown",
      "metadata": {
        "id": "view-in-github",
        "colab_type": "text"
      },
      "source": [
        "<a href=\"https://colab.research.google.com/github/TrixP/TrixP/blob/main/1_Comandos.ipynb\" target=\"_parent\"><img src=\"https://colab.research.google.com/assets/colab-badge.svg\" alt=\"Open In Colab\"/></a>"
      ]
    },
    {
      "cell_type": "markdown",
      "metadata": {
        "id": "BZwAteJVdgoj"
      },
      "source": [
        "## Seccion 1.1 (Hello World)"
      ]
    },
    {
      "cell_type": "markdown",
      "metadata": {
        "id": "ATetYy5MeO2N"
      },
      "source": [
        "El primer comando/funcion en aprender en un curso \n",
        "\n",
        "introductorio de python es por excelencia la función ```print()```"
      ]
    },
    {
      "cell_type": "code",
      "metadata": {
        "colab": {
          "base_uri": "https://localhost:8080/"
        },
        "id": "r5ovMWkdd7vO",
        "outputId": "ed42c46c-9c84-4ae2-ce40-2f9f4caa86de"
      },
      "source": [
        "print('Hello world')"
      ],
      "execution_count": null,
      "outputs": [
        {
          "output_type": "stream",
          "name": "stdout",
          "text": [
            "Hello world\n"
          ]
        }
      ]
    },
    {
      "cell_type": "code",
      "metadata": {
        "id": "xRPA4CRhebwJ"
      },
      "source": [
        "mi_nombre = 'Ivan'"
      ],
      "execution_count": null,
      "outputs": []
    },
    {
      "cell_type": "code",
      "metadata": {
        "colab": {
          "base_uri": "https://localhost:8080/"
        },
        "id": "29ydwNnKek-y",
        "outputId": "fbb6ba97-dbc4-4e43-cb1b-fbb5a3460ae3"
      },
      "source": [
        "print(mi_nombre)"
      ],
      "execution_count": null,
      "outputs": [
        {
          "output_type": "stream",
          "name": "stdout",
          "text": [
            "Ivan\n"
          ]
        }
      ]
    },
    {
      "cell_type": "markdown",
      "metadata": {
        "id": "dmp8puE4eoLp"
      },
      "source": [
        "Podemos concatenar strings (cadenas de texto) con los operadores de \"+\""
      ]
    },
    {
      "cell_type": "code",
      "metadata": {
        "colab": {
          "base_uri": "https://localhost:8080/"
        },
        "id": "PruyoxNqexEm",
        "outputId": "e72a6481-15d8-4485-a4ec-c72ecb8c6fa9"
      },
      "source": [
        "nombre_completo = mi_nombre + ' ' +  'Montenegro'\n",
        "print(nombre_completo)"
      ],
      "execution_count": null,
      "outputs": [
        {
          "output_type": "stream",
          "name": "stdout",
          "text": [
            "Ivan Montenegro\n"
          ]
        }
      ]
    },
    {
      "cell_type": "markdown",
      "metadata": {
        "id": "-9ljsaw5e8jG"
      },
      "source": [
        "Solo podemos usar el operador suma cuando se concatenan cadenas texto"
      ]
    },
    {
      "cell_type": "code",
      "metadata": {
        "colab": {
          "base_uri": "https://localhost:8080/",
          "height": 166
        },
        "id": "8bvq-ldUfDnd",
        "outputId": "0e575bff-0b66-4c78-fd0c-8a3ef3667b2d"
      },
      "source": [
        "nombre_completo = mi_nombre + 5"
      ],
      "execution_count": null,
      "outputs": [
        {
          "output_type": "error",
          "ename": "TypeError",
          "evalue": "ignored",
          "traceback": [
            "\u001b[0;31m---------------------------------------------------------------------------\u001b[0m",
            "\u001b[0;31mTypeError\u001b[0m                                 Traceback (most recent call last)",
            "\u001b[0;32m<ipython-input-16-50ba30aabc76>\u001b[0m in \u001b[0;36m<module>\u001b[0;34m()\u001b[0m\n\u001b[0;32m----> 1\u001b[0;31m \u001b[0mnombre_completo\u001b[0m \u001b[0;34m=\u001b[0m \u001b[0mmi_nombre\u001b[0m \u001b[0;34m+\u001b[0m \u001b[0;36m5\u001b[0m\u001b[0;34m\u001b[0m\u001b[0;34m\u001b[0m\u001b[0m\n\u001b[0m",
            "\u001b[0;31mTypeError\u001b[0m: can only concatenate str (not \"int\") to str"
          ]
        }
      ]
    },
    {
      "cell_type": "markdown",
      "metadata": {
        "id": "IEimkLYJfqRt"
      },
      "source": [
        "## Tipos de variables"
      ]
    },
    {
      "cell_type": "markdown",
      "metadata": {
        "id": "zadiN5d4fQei"
      },
      "source": [
        "Para conocer la naturaleza de nuestras variables podemos hacer uso de la función ```type()```"
      ]
    },
    {
      "cell_type": "code",
      "metadata": {
        "colab": {
          "base_uri": "https://localhost:8080/"
        },
        "id": "MiHwuPNJfUVo",
        "outputId": "da466021-7435-4ed6-96af-5927e805270e"
      },
      "source": [
        "type(mi_nombre)"
      ],
      "execution_count": null,
      "outputs": [
        {
          "output_type": "execute_result",
          "data": {
            "text/plain": [
              "str"
            ]
          },
          "metadata": {},
          "execution_count": 17
        }
      ]
    },
    {
      "cell_type": "code",
      "source": [
        "entero = 5\n",
        "type(entero)"
      ],
      "metadata": {
        "colab": {
          "base_uri": "https://localhost:8080/"
        },
        "id": "sF68G833B92z",
        "outputId": "84d4eae4-4283-4321-e265-23ad0f858123"
      },
      "execution_count": null,
      "outputs": [
        {
          "output_type": "execute_result",
          "data": {
            "text/plain": [
              "int"
            ]
          },
          "metadata": {},
          "execution_count": 18
        }
      ]
    },
    {
      "cell_type": "code",
      "source": [
        "flotante = 5.0\n",
        "type(flotante)"
      ],
      "metadata": {
        "colab": {
          "base_uri": "https://localhost:8080/"
        },
        "id": "kkMouyMmCHcu",
        "outputId": "e3e974f6-d245-4f49-fefb-e2d8afc9c5db"
      },
      "execution_count": null,
      "outputs": [
        {
          "output_type": "execute_result",
          "data": {
            "text/plain": [
              "float"
            ]
          },
          "metadata": {},
          "execution_count": 19
        }
      ]
    },
    {
      "cell_type": "code",
      "source": [
        "type(True)"
      ],
      "metadata": {
        "colab": {
          "base_uri": "https://localhost:8080/"
        },
        "id": "uyWahH-oCAa5",
        "outputId": "43deba28-fb97-4229-8abd-bb1b4eca05b4"
      },
      "execution_count": null,
      "outputs": [
        {
          "output_type": "execute_result",
          "data": {
            "text/plain": [
              "bool"
            ]
          },
          "metadata": {},
          "execution_count": 20
        }
      ]
    },
    {
      "cell_type": "markdown",
      "metadata": {
        "id": "an8uXArJfuUl"
      },
      "source": [
        "## Listas"
      ]
    },
    {
      "cell_type": "markdown",
      "metadata": {
        "id": "wnBnjEEIfzZT"
      },
      "source": [
        "Las listas se definen por medio de un par de corchetes ```[]``` . Las listas pueden contener distintos tipo de variables, ya sean cadenas de texto (```str```), enteros (```ìnt```), flotantes (```floats```) o booleanos ```bool```"
      ]
    },
    {
      "cell_type": "code",
      "metadata": {
        "id": "bFmezYbXfyq4"
      },
      "source": [
        "mi_lista = [1,48.7,'tres',True]"
      ],
      "execution_count": null,
      "outputs": []
    },
    {
      "cell_type": "markdown",
      "metadata": {
        "id": "06mjx7EngnUS"
      },
      "source": [
        "Para acceder a cada elemento de mi lista, debo colocar dentro del corchete el valor de la posición de ese elemento, en python, se empieza a contar desde 0. "
      ]
    },
    {
      "cell_type": "code",
      "metadata": {
        "colab": {
          "base_uri": "https://localhost:8080/"
        },
        "id": "c5WzoAGSgTaq",
        "outputId": "44e14ad9-6b65-40b5-9b2e-d6e716700567"
      },
      "source": [
        "type(mi_lista[0])"
      ],
      "execution_count": null,
      "outputs": [
        {
          "output_type": "execute_result",
          "data": {
            "text/plain": [
              "int"
            ]
          },
          "metadata": {},
          "execution_count": 22
        }
      ]
    },
    {
      "cell_type": "markdown",
      "metadata": {
        "id": "a2zTLTBLlBN9"
      },
      "source": [
        "Podemos accerder a una lista de atras para adelante"
      ]
    },
    {
      "cell_type": "code",
      "metadata": {
        "colab": {
          "base_uri": "https://localhost:8080/",
          "height": 35
        },
        "id": "ScCI1_PolEWd",
        "outputId": "730f457f-f501-421a-f2d6-de4aa9dbaf96"
      },
      "source": [
        "mi_lista[-2]"
      ],
      "execution_count": null,
      "outputs": [
        {
          "output_type": "execute_result",
          "data": {
            "application/vnd.google.colaboratory.intrinsic+json": {
              "type": "string"
            },
            "text/plain": [
              "'tres'"
            ]
          },
          "metadata": {},
          "execution_count": 23
        }
      ]
    },
    {
      "cell_type": "code",
      "metadata": {
        "id": "FKuC8gDDg9KA"
      },
      "source": [
        "bikes = []\n",
        "bikes.append('trek')\n",
        "bikes.append('giant')"
      ],
      "execution_count": null,
      "outputs": []
    },
    {
      "cell_type": "code",
      "metadata": {
        "colab": {
          "base_uri": "https://localhost:8080/"
        },
        "id": "99OqIdHFhGh-",
        "outputId": "391ca066-08d0-4980-ca60-c2d6760861b3"
      },
      "source": [
        "bikes"
      ],
      "execution_count": null,
      "outputs": [
        {
          "output_type": "execute_result",
          "data": {
            "text/plain": [
              "['trek', 'giant']"
            ]
          },
          "metadata": {},
          "execution_count": 25
        }
      ]
    },
    {
      "cell_type": "markdown",
      "metadata": {
        "id": "_tgPim6XhPLv"
      },
      "source": [
        "Para conocer el tamaño de una lista tenemos la función ```len()```)"
      ]
    },
    {
      "cell_type": "code",
      "metadata": {
        "colab": {
          "base_uri": "https://localhost:8080/"
        },
        "id": "vee78mMXhVsU",
        "outputId": "5996a422-fc21-437c-f4b5-e30fefc7d5c7"
      },
      "source": [
        "len(mi_lista)"
      ],
      "execution_count": null,
      "outputs": [
        {
          "output_type": "execute_result",
          "data": {
            "text/plain": [
              "4"
            ]
          },
          "metadata": {},
          "execution_count": 26
        }
      ]
    },
    {
      "cell_type": "markdown",
      "metadata": {
        "id": "e-X9ufrJhzgg"
      },
      "source": [
        "## For loops"
      ]
    },
    {
      "cell_type": "code",
      "metadata": {
        "colab": {
          "base_uri": "https://localhost:8080/"
        },
        "id": "EZPCDtenh02Y",
        "outputId": "a631c511-3daa-4513-dc9a-1722542569ef"
      },
      "source": [
        "for i in range(4):\n",
        "  print(i)"
      ],
      "execution_count": null,
      "outputs": [
        {
          "output_type": "stream",
          "name": "stdout",
          "text": [
            "0\n",
            "1\n",
            "2\n",
            "3\n"
          ]
        }
      ]
    },
    {
      "cell_type": "markdown",
      "metadata": {
        "id": "ynWJuxyxKtmY"
      },
      "source": [
        "El límite superior de un for loop es excluyente, en este caso no toma el 4"
      ]
    },
    {
      "cell_type": "code",
      "metadata": {
        "colab": {
          "base_uri": "https://localhost:8080/"
        },
        "id": "EWgjjQyaJ0m7",
        "outputId": "a3e924ad-33d3-4147-8c29-713c8f17ca88"
      },
      "source": [
        "for i in range(2,4):\n",
        "  print(i)"
      ],
      "execution_count": null,
      "outputs": [
        {
          "output_type": "stream",
          "name": "stdout",
          "text": [
            "2\n",
            "3\n"
          ]
        }
      ]
    },
    {
      "cell_type": "markdown",
      "metadata": {
        "id": "8nxeAiWViIfr"
      },
      "source": [
        "Crear un for loop para obtener la suma de 1 + 2 + 3 + 4 + 5 + 6 + 7 ,.... 100"
      ]
    },
    {
      "cell_type": "code",
      "metadata": {
        "id": "xcs7j60oiZRR"
      },
      "source": [
        "suma = 0\n",
        "for i in range(101):\n",
        "  suma = suma + i\n",
        "  print(suma)"
      ],
      "execution_count": null,
      "outputs": []
    },
    {
      "cell_type": "markdown",
      "metadata": {
        "id": "QcZmjDF-ixRe"
      },
      "source": [
        "Podemos comprobar mediante la formula de Gauss"
      ]
    },
    {
      "cell_type": "code",
      "metadata": {
        "colab": {
          "base_uri": "https://localhost:8080/"
        },
        "id": "eX7uLuhgiFcd",
        "outputId": "ec2d9985-6445-4b66-b505-779b46bcf512"
      },
      "source": [
        "sum = 101*50\n",
        "sum"
      ],
      "execution_count": null,
      "outputs": [
        {
          "output_type": "execute_result",
          "data": {
            "text/plain": [
              "5050"
            ]
          },
          "metadata": {},
          "execution_count": 32
        }
      ]
    },
    {
      "cell_type": "markdown",
      "metadata": {
        "id": "mHjwYCJSFfgX"
      },
      "source": [
        "Podemos iterar sobre una lista de las siguientes maneras"
      ]
    },
    {
      "cell_type": "code",
      "metadata": {
        "colab": {
          "base_uri": "https://localhost:8080/"
        },
        "id": "oOMM5zeIi2DH",
        "outputId": "c8a2ac9b-531a-49bd-e043-dbe7bffb414f"
      },
      "source": [
        "for i in mi_lista:\n",
        "  print(i)"
      ],
      "execution_count": null,
      "outputs": [
        {
          "output_type": "stream",
          "name": "stdout",
          "text": [
            "1\n",
            "48.7\n",
            "tres\n",
            "True\n"
          ]
        }
      ]
    },
    {
      "cell_type": "code",
      "source": [
        "for i in range(len(mi_lista)):\n",
        "  print(i)"
      ],
      "metadata": {
        "colab": {
          "base_uri": "https://localhost:8080/"
        },
        "id": "hcevqRs1GQTE",
        "outputId": "d9d3d91b-1649-41ef-fed3-83af5139a7c1"
      },
      "execution_count": null,
      "outputs": [
        {
          "output_type": "stream",
          "name": "stdout",
          "text": [
            "0\n",
            "1\n",
            "2\n",
            "3\n"
          ]
        }
      ]
    },
    {
      "cell_type": "markdown",
      "metadata": {
        "id": "K-sLtpvoj3we"
      },
      "source": [
        "## True/False"
      ]
    },
    {
      "cell_type": "markdown",
      "metadata": {
        "id": "Zq-RH1b3kANA"
      },
      "source": [
        "Definimos variables con valores númericos"
      ]
    },
    {
      "cell_type": "code",
      "metadata": {
        "id": "sfn1BnCQj7qj"
      },
      "source": [
        "z = 20\n",
        "y = 25 "
      ],
      "execution_count": null,
      "outputs": []
    },
    {
      "cell_type": "markdown",
      "metadata": {
        "id": "vIKybQaGkMW4"
      },
      "source": [
        "¿Z Es igual a Y?"
      ]
    },
    {
      "cell_type": "code",
      "metadata": {
        "colab": {
          "base_uri": "https://localhost:8080/"
        },
        "id": "Dum8RXD7kDKC",
        "outputId": "aa1226aa-4c13-45b1-e880-2290192f7a0f"
      },
      "source": [
        "z == y "
      ],
      "execution_count": null,
      "outputs": [
        {
          "output_type": "execute_result",
          "data": {
            "text/plain": [
              "False"
            ]
          },
          "metadata": {},
          "execution_count": 37
        }
      ]
    },
    {
      "cell_type": "markdown",
      "metadata": {
        "id": "Sqv3z18-kL3Y"
      },
      "source": [
        "¿Z es distinto de Y?"
      ]
    },
    {
      "cell_type": "code",
      "metadata": {
        "colab": {
          "base_uri": "https://localhost:8080/"
        },
        "id": "rgmdVaaFkKGd",
        "outputId": "9deb5cdb-bf06-4224-e54f-d27449e7ed2d"
      },
      "source": [
        "z != y "
      ],
      "execution_count": null,
      "outputs": [
        {
          "output_type": "execute_result",
          "data": {
            "text/plain": [
              "True"
            ]
          },
          "metadata": {},
          "execution_count": 38
        }
      ]
    },
    {
      "cell_type": "markdown",
      "metadata": {
        "id": "GXkZcmprkeDd"
      },
      "source": [
        "¿Z es mayor que Y?"
      ]
    },
    {
      "cell_type": "code",
      "metadata": {
        "colab": {
          "base_uri": "https://localhost:8080/"
        },
        "id": "z2wwNfmNkgbB",
        "outputId": "7964a359-33db-4965-b4d9-931671d7231c"
      },
      "source": [
        "z > y"
      ],
      "execution_count": null,
      "outputs": [
        {
          "output_type": "execute_result",
          "data": {
            "text/plain": [
              "False"
            ]
          },
          "metadata": {},
          "execution_count": 39
        }
      ]
    },
    {
      "cell_type": "markdown",
      "metadata": {
        "id": "EG09mNH-kk-w"
      },
      "source": [
        "¿Z es menor que Y?"
      ]
    },
    {
      "cell_type": "code",
      "metadata": {
        "colab": {
          "base_uri": "https://localhost:8080/"
        },
        "id": "JjamF0-Xkmql",
        "outputId": "3d77e8b3-a7f8-49d7-9237-d3bf8dc53960"
      },
      "source": [
        "z < y"
      ],
      "execution_count": null,
      "outputs": [
        {
          "output_type": "execute_result",
          "data": {
            "text/plain": [
              "True"
            ]
          },
          "metadata": {},
          "execution_count": 40
        }
      ]
    },
    {
      "cell_type": "markdown",
      "metadata": {
        "id": "Ca13OmjRko_j"
      },
      "source": [
        "¿Z es mayor o igual que y?"
      ]
    },
    {
      "cell_type": "code",
      "metadata": {
        "colab": {
          "base_uri": "https://localhost:8080/"
        },
        "id": "9chdCmgWkvCC",
        "outputId": "80fc9e8e-99a4-4d37-b249-f8bd29cff6b5"
      },
      "source": [
        "z >= y"
      ],
      "execution_count": null,
      "outputs": [
        {
          "output_type": "execute_result",
          "data": {
            "text/plain": [
              "False"
            ]
          },
          "metadata": {},
          "execution_count": 41
        }
      ]
    },
    {
      "cell_type": "markdown",
      "metadata": {
        "id": "42djIw48kyAB"
      },
      "source": [
        "¿Z es menor o igual que y?"
      ]
    },
    {
      "cell_type": "code",
      "metadata": {
        "colab": {
          "base_uri": "https://localhost:8080/"
        },
        "id": "Ki07CrKekz-E",
        "outputId": "862e9ac6-8531-4cf6-a51b-389116d0c547"
      },
      "source": [
        "z <= y"
      ],
      "execution_count": null,
      "outputs": [
        {
          "output_type": "execute_result",
          "data": {
            "text/plain": [
              "True"
            ]
          },
          "metadata": {},
          "execution_count": 42
        }
      ]
    },
    {
      "cell_type": "markdown",
      "source": [
        "# With Method"
      ],
      "metadata": {
        "id": "hUpDYNKydcYK"
      }
    },
    {
      "cell_type": "markdown",
      "source": [
        "Creamos un archivo de texto llamado 'holamundo.txt' con el método  ```with open()``` y escribimos en el 'hola mundo'. ```'w'```significa (Writing mode - Modo de escritura)"
      ],
      "metadata": {
        "id": "z7quAssMdjZX"
      }
    },
    {
      "cell_type": "code",
      "source": [
        "with open('holamundo.txt','w') as f:\n",
        "  f.write('hola mundo')"
      ],
      "metadata": {
        "id": "uiCMYe3veJG6"
      },
      "execution_count": null,
      "outputs": []
    },
    {
      "cell_type": "markdown",
      "source": [
        "Abrimos el archivo de texto en modo lectura ```'r'```"
      ],
      "metadata": {
        "id": "k4etgKuKk4_X"
      }
    },
    {
      "cell_type": "code",
      "source": [
        "with open('holamundo.txt','r') as f:\n",
        "  mensaje = f.read()\n",
        "  print(mensaje)"
      ],
      "metadata": {
        "colab": {
          "base_uri": "https://localhost:8080/"
        },
        "id": "EF11iqi9k8hZ",
        "outputId": "df79045c-a1d7-4346-b20d-e18d6c5d378d"
      },
      "execution_count": null,
      "outputs": [
        {
          "output_type": "stream",
          "name": "stdout",
          "text": [
            "hola mundo\n"
          ]
        }
      ]
    }
  ]
}